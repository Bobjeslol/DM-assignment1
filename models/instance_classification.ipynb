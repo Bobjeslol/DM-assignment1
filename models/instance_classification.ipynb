{
 "cells": [
  {
   "cell_type": "code",
   "execution_count": 100,
   "id": "4dbb9d81",
   "metadata": {},
   "outputs": [],
   "source": [
    "import pandas as pd\n",
    "from sklearn.model_selection import train_test_split, RandomizedSearchCV\n",
    "from sklearn.ensemble import RandomForestClassifier, RandomForestRegressor\n",
    "from sklearn.metrics import classification_report, ConfusionMatrixDisplay, mean_absolute_error, mean_squared_error, r2_score, get_scorer_names\n",
    "import pandas as pd\n",
    "import matplotlib.pyplot as plt\n",
    "import numpy as np\n",
    "from scipy.stats import randint"
   ]
  },
  {
   "cell_type": "code",
   "execution_count": 101,
   "id": "73f00019",
   "metadata": {},
   "outputs": [
    {
     "name": "stderr",
     "output_type": "stream",
     "text": [
      "c:\\Users\\frenk\\AppData\\Local\\Programs\\Python\\Python310\\lib\\site-packages\\sklearn\\ensemble\\_forest.py:424: FutureWarning: `max_features='auto'` has been deprecated in 1.1 and will be removed in 1.3. To keep the past behaviour, explicitly set `max_features='sqrt'` or remove this parameter as it is also the default value for RandomForestClassifiers and ExtraTreesClassifiers.\n",
      "  warn(\n"
     ]
    },
    {
     "name": "stdout",
     "output_type": "stream",
     "text": [
      "Best parameters found:\n",
      "{'max_depth': 5, 'max_features': 'auto', 'min_samples_leaf': 4, 'min_samples_split': 10, 'n_estimators': 195}\n",
      "Best CV score:\n",
      "0.6253861927546138\n"
     ]
    }
   ],
   "source": [
    "#Classification\n",
    "df = pd.read_csv(\"instance_dataset.csv\")\n",
    "\n",
    "def mood_to_label(mood):\n",
    "    if mood <= 4:\n",
    "        return \"low\"\n",
    "    elif mood <= 7:\n",
    "        return \"medium\"\n",
    "    else:\n",
    "        return \"high\"\n",
    "df['id_numeric'] = df['id'].astype('category').cat.codes\n",
    "df['period_start'] = df['period'].str.extract(r'(\\d+)-').astype(int)\n",
    "df[\"mood_label\"] = df[\"mood\"].apply(mood_to_label)\n",
    "\n",
    "y = df[\"mood_label\"] \n",
    "X = df.drop(columns=[\"id\", \"date_period\", \"period\", \"mood\", \"mood_label\"])\n",
    "\n",
    "X_train, X_test, y_train, y_test = train_test_split(\n",
    "    X, y,\n",
    "    test_size=0.2,\n",
    "    stratify=y,\n",
    "    random_state=42\n",
    ")\n",
    "\n",
    "\n",
    "param_dist = {\n",
    "    'n_estimators': randint(100, 300),           # Number of trees\n",
    "    'max_depth': [None] + list(range(5, 30, 5)), # Max tree depth\n",
    "    'min_samples_split': [2, 5, 10],             # Min samples to split a node\n",
    "    'min_samples_leaf': [1, 2, 4],               # Min samples in a leaf\n",
    "    'max_features': ['auto', 'sqrt', 'log2']     # Number of features per split\n",
    "}\n",
    "\n",
    "rf = RandomForestClassifier(random_state=42)\n",
    "\n",
    "search = RandomizedSearchCV(rf, param_distributions=param_dist, \n",
    "                            n_iter=50, cv=5, \n",
    "                            scoring='accuracy',\n",
    "                            random_state=42, n_jobs=-1)\n",
    "\n",
    "search.fit(X, y)\n",
    "\n",
    "print(\"Best parameters found:\")\n",
    "print(search.best_params_)\n",
    "\n",
    "print(\"Best CV score:\")\n",
    "print(search.best_score_)"
   ]
  },
  {
   "cell_type": "code",
   "execution_count": 102,
   "id": "8229bbdf",
   "metadata": {},
   "outputs": [
    {
     "name": "stderr",
     "output_type": "stream",
     "text": [
      "c:\\Users\\frenk\\AppData\\Local\\Programs\\Python\\Python310\\lib\\site-packages\\sklearn\\ensemble\\_forest.py:424: FutureWarning: `max_features='auto'` has been deprecated in 1.1 and will be removed in 1.3. To keep the past behaviour, explicitly set `max_features='sqrt'` or remove this parameter as it is also the default value for RandomForestClassifiers and ExtraTreesClassifiers.\n",
      "  warn(\n"
     ]
    },
    {
     "name": "stdout",
     "output_type": "stream",
     "text": [
      "\n",
      "Classification Report:\n",
      "              precision    recall  f1-score   support\n",
      "\n",
      "         low       0.00      0.00      0.00         2\n",
      "      medium       0.80      0.94      0.87       154\n",
      "        high       0.69      0.37      0.48        54\n",
      "\n",
      "    accuracy                           0.79       210\n",
      "   macro avg       0.50      0.44      0.45       210\n",
      "weighted avg       0.76      0.79      0.76       210\n",
      "\n"
     ]
    },
    {
     "name": "stderr",
     "output_type": "stream",
     "text": [
      "c:\\Users\\frenk\\AppData\\Local\\Programs\\Python\\Python310\\lib\\site-packages\\sklearn\\metrics\\_classification.py:1344: UndefinedMetricWarning: Precision and F-score are ill-defined and being set to 0.0 in labels with no predicted samples. Use `zero_division` parameter to control this behavior.\n",
      "  _warn_prf(average, modifier, msg_start, len(result))\n",
      "c:\\Users\\frenk\\AppData\\Local\\Programs\\Python\\Python310\\lib\\site-packages\\sklearn\\metrics\\_classification.py:1344: UndefinedMetricWarning: Precision and F-score are ill-defined and being set to 0.0 in labels with no predicted samples. Use `zero_division` parameter to control this behavior.\n",
      "  _warn_prf(average, modifier, msg_start, len(result))\n",
      "c:\\Users\\frenk\\AppData\\Local\\Programs\\Python\\Python310\\lib\\site-packages\\sklearn\\metrics\\_classification.py:1344: UndefinedMetricWarning: Precision and F-score are ill-defined and being set to 0.0 in labels with no predicted samples. Use `zero_division` parameter to control this behavior.\n",
      "  _warn_prf(average, modifier, msg_start, len(result))\n"
     ]
    },
    {
     "data": {
      "text/plain": [
       "<sklearn.metrics._plot.confusion_matrix.ConfusionMatrixDisplay at 0x205d8b05480>"
      ]
     },
     "execution_count": 102,
     "metadata": {},
     "output_type": "execute_result"
    },
    {
     "data": {
      "image/png": "[encoded data removed]",
      "text/plain": [
       "<Figure size 640x480 with 2 Axes>"
      ]
     },
     "metadata": {},
     "output_type": "display_data"
    }
   ],
   "source": [
    "best_rf = RandomForestClassifier(\n",
    "    n_estimators=195,\n",
    "    max_depth=5,\n",
    "    max_features='auto',\n",
    "    min_samples_leaf=4,\n",
    "    min_samples_split=10,\n",
    "    random_state=42\n",
    ")\n",
    "\n",
    "best_rf.fit(X_train, y_train)\n",
    "y_pred = best_rf.predict(X_test)\n",
    "\n",
    "label_order = [\"low\", \"medium\", \"high\"]\n",
    "print(\"\\nClassification Report:\")\n",
    "print(classification_report(y_test, y_pred, labels=label_order))\n",
    "ConfusionMatrixDisplay.from_predictions(y_test, y_pred, labels=label_order)"
   ]
  },
  {
   "cell_type": "code",
   "execution_count": 103,
   "id": "d6c230ca",
   "metadata": {},
   "outputs": [
    {
     "data": {
      "image/png": "[encoded data removed]",
      "text/plain": [
       "<Figure size 1000x600 with 1 Axes>"
      ]
     },
     "metadata": {},
     "output_type": "display_data"
    }
   ],
   "source": [
    "importances = best_rf.feature_importances_\n",
    "features = X.columns\n",
    "feat_imp = pd.Series(importances, index=features).sort_values(ascending=False)\n",
    "\n",
    "feat_imp.plot(kind='barh', figsize=(10, 6))\n",
    "plt.title(\"Feature Importance\")\n",
    "plt.show()"
   ]
  },
  {
   "cell_type": "code",
   "execution_count": 104,
   "id": "eec1b97b",
   "metadata": {},
   "outputs": [
    {
     "name": "stderr",
     "output_type": "stream",
     "text": [
      "c:\\Users\\frenk\\AppData\\Local\\Programs\\Python\\Python310\\lib\\site-packages\\sklearn\\ensemble\\_forest.py:413: FutureWarning: `max_features='auto'` has been deprecated in 1.1 and will be removed in 1.3. To keep the past behaviour, explicitly set `max_features=1.0` or remove this parameter as it is also the default value for RandomForestRegressors and ExtraTreesRegressors.\n",
      "  warn(\n"
     ]
    },
    {
     "name": "stdout",
     "output_type": "stream",
     "text": [
      "Best parameters found:\n",
      "{'max_depth': 5, 'max_features': 'auto', 'min_samples_leaf': 4, 'min_samples_split': 10, 'n_estimators': 195}\n",
      "Best CV score:\n",
      "-0.579528247879664\n"
     ]
    }
   ],
   "source": [
    "# Regression\n",
    "df = pd.read_csv(\"instance_dataset.csv\")\n",
    "\n",
    "df['id_numeric'] = df['id'].astype('category').cat.codes\n",
    "df['period_start'] = df['period'].str.extract(r'(\\d+)-').astype(int)\n",
    "X = df.drop(columns=[\"id\", \"date_period\", \"period\", \"mood\"])\n",
    "y = df[\"mood\"]             \n",
    "\n",
    "X_train, X_test, y_train, y_test = train_test_split(X, y, test_size=0.2, random_state=42)\n",
    "\n",
    "param_dist = {\n",
    "    'n_estimators': randint(100, 300),           # Number of trees\n",
    "    'max_depth': [None] + list(range(5, 30, 5)), # Max tree depth\n",
    "    'min_samples_split': [2, 5, 10],             # Min samples to split a node\n",
    "    'min_samples_leaf': [1, 2, 4],               # Min samples in a leaf\n",
    "    'max_features': ['auto', 'sqrt', 'log2']     # Number of features per split\n",
    "}\n",
    "\n",
    "rf = RandomForestRegressor(random_state=42)\n",
    "\n",
    "search = RandomizedSearchCV(rf, param_distributions=param_dist, \n",
    "                            n_iter=50, cv=5, \n",
    "                            scoring='neg_mean_squared_error',\n",
    "                            random_state=42, n_jobs=-1)\n",
    "\n",
    "search.fit(X, y)\n",
    "\n",
    "print(\"Best parameters found:\")\n",
    "print(search.best_params_)\n",
    "\n",
    "print(\"Best CV score:\")\n",
    "print(search.best_score_)\n"
   ]
  },
  {
   "cell_type": "code",
   "execution_count": 105,
   "id": "24cbffe7",
   "metadata": {},
   "outputs": [
    {
     "name": "stderr",
     "output_type": "stream",
     "text": [
      "c:\\Users\\frenk\\AppData\\Local\\Programs\\Python\\Python310\\lib\\site-packages\\sklearn\\ensemble\\_forest.py:413: FutureWarning: `max_features='auto'` has been deprecated in 1.1 and will be removed in 1.3. To keep the past behaviour, explicitly set `max_features=1.0` or remove this parameter as it is also the default value for RandomForestRegressors and ExtraTreesRegressors.\n",
      "  warn(\n"
     ]
    },
    {
     "name": "stdout",
     "output_type": "stream",
     "text": [
      "MAE: 0.48676290954081997\n",
      "MSE: 0.5138592059226407\n",
      "R² Score: 0.21533272225801747\n"
     ]
    }
   ],
   "source": [
    "best_rf = RandomForestRegressor(\n",
    "    n_estimators=195,\n",
    "    max_depth=5,\n",
    "    max_features='auto',\n",
    "    min_samples_leaf=4,\n",
    "    min_samples_split=10,\n",
    "    random_state=42\n",
    ")\n",
    "\n",
    "best_rf.fit(X_train, y_train)\n",
    "y_pred = best_rf.predict(X_test)\n",
    "\n",
    "mae = mean_absolute_error(y_test, y_pred)\n",
    "mse = mean_squared_error(y_test, y_pred)\n",
    "rmse = np.sqrt(mse)\n",
    "r2 = r2_score(y_test, y_pred)\n",
    "\n",
    "print(\"MAE:\", mae)\n",
    "print(\"MSE:\", mse)\n",
    "print(\"R² Score:\", r2)"
   ]
  },
  {
   "cell_type": "code",
   "execution_count": 106,
   "id": "994252a2",
   "metadata": {},
   "outputs": [
    {
     "name": "stdout",
     "output_type": "stream",
     "text": [
      "Baseline MSE: 0.661\n"
     ]
    }
   ],
   "source": [
    "baseline = [y_train.mean()] * len(y_test)\n",
    "baseline_mse = mean_squared_error(y_test, baseline)\n",
    "print(f\"Baseline MSE: {baseline_mse:.3f}\")"
   ]
  }
 ],
 "metadata": {
  "kernelspec": {
   "display_name": "Python 3",
   "language": "python",
   "name": "python3"
  },
  "language_info": {
   "codemirror_mode": {
    "name": "ipython",
    "version": 3
   },
   "file_extension": ".py",
   "mimetype": "text/x-python",
   "name": "python",
   "nbconvert_exporter": "python",
   "pygments_lexer": "ipython3",
   "version": "3.10.6"
  }
 },
 "nbformat": 4,
 "nbformat_minor": 5
}
